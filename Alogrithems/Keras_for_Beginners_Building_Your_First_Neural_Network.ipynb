{
  "nbformat": 4,
  "nbformat_minor": 0,
  "metadata": {
    "colab": {
      "name": "Keras for Beginners: Building Your First Neural Network.ipynb",
      "provenance": [],
      "collapsed_sections": [],
      "toc_visible": true
    },
    "kernelspec": {
      "name": "python3",
      "display_name": "Python 3"
    },
    "language_info": {
      "name": "python"
    }
  },
  "cells": [
    {
      "cell_type": "markdown",
      "metadata": {
        "id": "qIlLHw-C-vA8"
      },
      "source": [
        "# **The Problem: MNIST digit classification**"
      ]
    },
    {
      "cell_type": "markdown",
      "metadata": {
        "id": "RAxBorHG-6li"
      },
      "source": [
        "We’re going to tackle a classic machine learning problem: MNIST handwritten digit classification. It’s simple: given an image, classify it as a digit."
      ]
    },
    {
      "cell_type": "markdown",
      "metadata": {
        "id": "ObO_t8xt_0y5"
      },
      "source": [
        "![](https://drive.google.com/uc?export=view&id=1f48f7yWecCFaApquvR1JC9h6y_KXXmFc)"
      ]
    },
    {
      "cell_type": "markdown",
      "metadata": {
        "id": "KsSgX_ZNABAI"
      },
      "source": [
        "Each image in the MNIST dataset is 28x28 and contains a centered, grayscale digit. We’ll flatten each 28x28 into a 784 dimensional vector, which we’ll use as input to our neural network. Our output will be one of 10 possible classes: one for each digit"
      ]
    },
    {
      "cell_type": "markdown",
      "metadata": {
        "id": "n19_fR7xADFO"
      },
      "source": [
        "#**1. Setup**"
      ]
    },
    {
      "cell_type": "markdown",
      "metadata": {
        "id": "xauX-AiZAfag"
      },
      "source": [
        "I’m assuming you already have a basic Python installation ready (you probably do). Let’s first install some packages we’ll need:"
      ]
    },
    {
      "cell_type": "code",
      "metadata": {
        "id": "mscw1_Rv-cIh"
      },
      "source": [
        "!pip install tensorflow numpy mnist\n"
      ],
      "execution_count": null,
      "outputs": []
    },
    {
      "cell_type": "markdown",
      "metadata": {
        "id": "kfcm0zLHAyf-"
      },
      "source": [
        "You should now be able to import these packages and poke around the MNIST dataset:"
      ]
    },
    {
      "cell_type": "code",
      "metadata": {
        "id": "QAJIH0zpA3EF"
      },
      "source": [
        "import numpy as np\n",
        "import mnist\n",
        "from tensorflow import keras\n",
        "\n",
        "# The first time you run this might be a bit slow, since the\n",
        "# mnist package has to download and cache the data.\n",
        "train_images = mnist.train_images()\n",
        "train_labels = mnist.train_labels()\n",
        "\n",
        "print(train_images.shape) # (60000, 28, 28)\n",
        "print(train_labels.shape) # (60000,)"
      ],
      "execution_count": null,
      "outputs": []
    },
    {
      "cell_type": "markdown",
      "metadata": {
        "id": "6rTGVD0nChvK"
      },
      "source": [
        "# **2. Preparing the Data**"
      ]
    },
    {
      "cell_type": "markdown",
      "metadata": {
        "id": "3t_Vq9eLClmX"
      },
      "source": [
        "As mentioned earlier, we need to flatten each image before we can pass it into our neural network. We’ll also normalize the pixel values from [0, 255] to [-0.5, 0.5] to make our network easier to train (using smaller, centered values is often better)."
      ]
    },
    {
      "cell_type": "code",
      "metadata": {
        "colab": {
          "base_uri": "https://localhost:8080/"
        },
        "id": "tupzfDqeCprt",
        "outputId": "df87e352-7038-44ca-fe63-4c3afcc1ee65"
      },
      "source": [
        "import numpy as np\n",
        "import mnist\n",
        "\n",
        "train_images = mnist.train_images()\n",
        "train_labels = mnist.train_labels()\n",
        "test_images = mnist.test_images()\n",
        "test_labels = mnist.test_labels()\n",
        "\n",
        "# Normalize the images.\n",
        "train_images = (train_images / 255) - 0.5\n",
        "test_images = (test_images / 255) - 0.5\n",
        "\n",
        "# Flatten the images.\n",
        "train_images = train_images.reshape((-1, 784))\n",
        "test_images = test_images.reshape((-1, 784))\n",
        "\n",
        "print(train_images.shape) # (60000, 784)\n",
        "print(test_images.shape)  # (10000, 784)"
      ],
      "execution_count": 7,
      "outputs": [
        {
          "output_type": "stream",
          "text": [
            "(60000, 784)\n",
            "(10000, 784)\n"
          ],
          "name": "stdout"
        }
      ]
    },
    {
      "cell_type": "markdown",
      "metadata": {
        "id": "BeDM7bY6C2a9"
      },
      "source": [
        "We’re ready to start building our neural network!\n",
        "\n"
      ]
    },
    {
      "cell_type": "markdown",
      "metadata": {
        "id": "r1HpibBgDJGI"
      },
      "source": [
        "# **3. Building the Model**"
      ]
    },
    {
      "cell_type": "markdown",
      "metadata": {
        "id": "dSsav5tUDXxQ"
      },
      "source": [
        "Every Keras model is either built using the Sequential class, which represents a linear stack of layers, or the functional Model class, which is more customizeable. We’ll be using the simpler Sequential model, since our network is indeed a linear stack of layers.\n",
        "\n",
        "We start by instantiating a Sequential model:"
      ]
    },
    {
      "cell_type": "code",
      "metadata": {
        "id": "2H50zmCjDQzS"
      },
      "source": [
        "from tensorflow.keras.models import Sequential\n",
        "from tensorflow.keras.layers import Dense\n",
        "\n",
        "# WIP\n",
        "model = Sequential([\n",
        "  # layers...\n",
        "])"
      ],
      "execution_count": 15,
      "outputs": []
    },
    {
      "cell_type": "markdown",
      "metadata": {
        "id": "OjIHZ9y5Dp--"
      },
      "source": [
        "The Sequential constructor takes an array of Keras Layers. Since we’re just building a standard feedforward network, we only need the Dense layer, which is your regular fully-connected (dense) network layer.\n",
        "\n",
        "Let’s throw in 3 Dense layers:"
      ]
    },
    {
      "cell_type": "code",
      "metadata": {
        "id": "41y2HUYVDrzn"
      },
      "source": [
        "# Still a WIP\n",
        "model = Sequential([\n",
        "  Dense(64, activation='relu'),\n",
        "  Dense(64, activation='relu'),\n",
        "  Dense(10, activation='softmax'),\n",
        "])"
      ],
      "execution_count": 16,
      "outputs": []
    },
    {
      "cell_type": "markdown",
      "metadata": {
        "id": "QbTzCmYtD4k9"
      },
      "source": [
        "The first two layers have 64 nodes each and use the ReLU activation function. The last layer is a Softmax output layer with 10 nodes, one for each class."
      ]
    },
    {
      "cell_type": "markdown",
      "metadata": {
        "id": "1yMqcIN1ECWL"
      },
      "source": [
        "The last thing we always need to do is tell Keras what our network’s input will look like. We can do that by specifying an input_shape to the first layer in the Sequential model:"
      ]
    },
    {
      "cell_type": "code",
      "metadata": {
        "id": "vAeN5ZBFEHHc"
      },
      "source": [
        "model = Sequential([\n",
        "  Dense(64, activation='relu', input_shape=(784,)),\n",
        "  Dense(64, activation='relu'),\n",
        "  Dense(10, activation='softmax'),\n",
        "])"
      ],
      "execution_count": 17,
      "outputs": []
    },
    {
      "cell_type": "markdown",
      "metadata": {
        "id": "yrsf5e8wEMVE"
      },
      "source": [
        "Once the input shape is specified, Keras will automatically infer the shapes of inputs for later layers. We’ve finished defining our model! Here’s where we’re at:"
      ]
    },
    {
      "cell_type": "markdown",
      "metadata": {
        "id": "DZXzp4q5EQnC"
      },
      "source": [
        "# **4. Compiling the Model**"
      ]
    },
    {
      "cell_type": "markdown",
      "metadata": {
        "id": "xee78T7aET4a"
      },
      "source": [
        "Before we can begin training, we need to configure the training process. We decide 3 key factors during the compilation step:"
      ]
    },
    {
      "cell_type": "markdown",
      "metadata": {
        "id": "Ha7mBGpwEgbp"
      },
      "source": [
        "- The optimizer. We’ll stick with a pretty good default: the Adam gradient-based optimizer. Keras has many other optimizers you can look into as well.\n",
        "- The loss function. Since we’re using a Softmax output layer, we’ll use the Cross-Entropy loss. Keras distinguishes between binary_crossentropy (2 classes) and categorical_crossentropy (>2 classes), so we’ll use the latter. See all Keras losses.\n",
        "- A list of metrics. Since this is a classification problem, we’ll just have Keras report on the accuracy metric.\n",
        "Here’s what that compilation looks like:"
      ]
    },
    {
      "cell_type": "code",
      "metadata": {
        "id": "YkI2KmLfEP_z"
      },
      "source": [
        "model.compile(\n",
        "  optimizer='adam',\n",
        "  loss='categorical_crossentropy',\n",
        "  metrics=['accuracy'],\n",
        ")"
      ],
      "execution_count": 29,
      "outputs": []
    },
    {
      "cell_type": "markdown",
      "metadata": {
        "id": "YR_4HX5UJEa7"
      },
      "source": [
        "# **One-Hot Encoding**"
      ]
    },
    {
      "cell_type": "code",
      "metadata": {
        "id": "7_I-NvBRK6Ik"
      },
      "source": [
        "\n",
        "from tensorflow.keras.utils import to_categorical\n"
      ],
      "execution_count": 44,
      "outputs": []
    },
    {
      "cell_type": "code",
      "metadata": {
        "id": "pGi_eJ_SJNGi"
      },
      "source": [
        "\n",
        "train_labels=to_categorical(train_labels)"
      ],
      "execution_count": 45,
      "outputs": []
    },
    {
      "cell_type": "markdown",
      "metadata": {
        "id": "05v6TYIuEsR3"
      },
      "source": [
        "# **5. Training the Model**"
      ]
    },
    {
      "cell_type": "markdown",
      "metadata": {
        "id": "9QG1KyAvE54-"
      },
      "source": [
        "Training a model in Keras literally consists only of calling fit() and specifying some parameters. There are a lot of possible parameters, but we’ll only manually supply a few:"
      ]
    },
    {
      "cell_type": "markdown",
      "metadata": {
        "id": "gC4GMtJhE_Sn"
      },
      "source": [
        "- The training data (images and labels), commonly known as X and Y, respectively.\n",
        "- The number of epochs (iterations over the entire dataset) to train for.\n",
        "- The batch size (number of samples per gradient update) to use when training.\n",
        "\n",
        "Here’s what that looks like:"
      ]
    },
    {
      "cell_type": "code",
      "metadata": {
        "colab": {
          "base_uri": "https://localhost:8080/"
        },
        "id": "b-Q5OGIMFGz1",
        "outputId": "e98202c7-3a6a-49ea-9bba-11c465873bb6"
      },
      "source": [
        "model.fit(\n",
        "  train_images, # training data\n",
        "  train_labels, # training targets\n",
        "  epochs=5,\n",
        "  batch_size=32,\n",
        ")"
      ],
      "execution_count": 34,
      "outputs": [
        {
          "output_type": "stream",
          "text": [
            "Epoch 1/5\n",
            "1875/1875 [==============================] - 6s 3ms/step - loss: 0.3604 - accuracy: 0.8921\n",
            "Epoch 2/5\n",
            "1875/1875 [==============================] - 5s 2ms/step - loss: 0.1861 - accuracy: 0.9439\n",
            "Epoch 3/5\n",
            "1875/1875 [==============================] - 4s 2ms/step - loss: 0.1460 - accuracy: 0.9552\n",
            "Epoch 4/5\n",
            "1875/1875 [==============================] - 4s 2ms/step - loss: 0.1214 - accuracy: 0.9623\n",
            "Epoch 5/5\n",
            "1875/1875 [==============================] - 4s 2ms/step - loss: 0.1077 - accuracy: 0.9664\n"
          ],
          "name": "stdout"
        },
        {
          "output_type": "execute_result",
          "data": {
            "text/plain": [
              "<tensorflow.python.keras.callbacks.History at 0x7f4902887610>"
            ]
          },
          "metadata": {
            "tags": []
          },
          "execution_count": 34
        }
      ]
    },
    {
      "cell_type": "markdown",
      "metadata": {
        "id": "Y4kRPSpQF12r"
      },
      "source": [
        "This doesn’t actually work yet, though - we overlooked one thing. Keras expects the training targets to be 10-dimensional vectors, since there are 10 nodes in our Softmax output layer, but we’re instead supplying a single integer representing the class for each image.\n",
        "\n",
        "Conveniently, Keras has a utility method that fixes this exact issue: to_categorical. It turns our array of class integers into an array of one-hot vectors instead. For example, 2 would become [0, 0, 1, 0, 0, 0, 0, 0, 0, 0] (it’s zero-indexed)."
      ]
    },
    {
      "cell_type": "markdown",
      "metadata": {
        "id": "8RuJ-1NVLrDY"
      },
      "source": [
        "We reached 96.6% training accuracy after 5 epochs! This doesn’t tell us much, though - we may be overfitting. The real challenge will be seeing how our model performs on our test data."
      ]
    },
    {
      "cell_type": "markdown",
      "metadata": {
        "id": "ZIYjb7mpLxk9"
      },
      "source": [
        "# **6. Testing the Model**"
      ]
    },
    {
      "cell_type": "markdown",
      "metadata": {
        "id": "6sEgnLOhL4rW"
      },
      "source": [
        "Evaluating the model is pretty simple:\n",
        "\n"
      ]
    },
    {
      "cell_type": "code",
      "metadata": {
        "colab": {
          "base_uri": "https://localhost:8080/"
        },
        "id": "0zMmxrk_L6KO",
        "outputId": "2b880966-012d-465f-fa13-c7190a680402"
      },
      "source": [
        "model.evaluate(\n",
        "  test_images,\n",
        "  to_categorical(test_labels)\n",
        ")"
      ],
      "execution_count": 35,
      "outputs": [
        {
          "output_type": "stream",
          "text": [
            "313/313 [==============================] - 1s 1ms/step - loss: 0.1036 - accuracy: 0.9681\n"
          ],
          "name": "stdout"
        },
        {
          "output_type": "execute_result",
          "data": {
            "text/plain": [
              "[0.10359513014554977, 0.9681000113487244]"
            ]
          },
          "metadata": {
            "tags": []
          },
          "execution_count": 35
        }
      ]
    },
    {
      "cell_type": "markdown",
      "metadata": {
        "id": "5reTzxtMMGS0"
      },
      "source": [
        "evaluate() returns an array containing the test loss followed by any metrics we specified. Thus, our model achieves a 0.108 test loss and 96.5% test accuracy! Not bad for your first neural network."
      ]
    },
    {
      "cell_type": "markdown",
      "metadata": {
        "id": "VHfWkg4kMLCM"
      },
      "source": [
        "# **7. Using the Model**"
      ]
    },
    {
      "cell_type": "markdown",
      "metadata": {
        "id": "yJxRPtn7MPR8"
      },
      "source": [
        "Now that we have a working, trained model, let’s put it to use. The first thing we’ll do is save it to disk so we can load it back up anytime:"
      ]
    },
    {
      "cell_type": "code",
      "metadata": {
        "id": "pQraMT5_MU7I"
      },
      "source": [
        "model.save_weights('model.h5')\n"
      ],
      "execution_count": 36,
      "outputs": []
    },
    {
      "cell_type": "markdown",
      "metadata": {
        "id": "YK4AeYTnMcg7"
      },
      "source": [
        "We can now reload the trained model whenever we want by rebuilding it and loading in the saved weights:"
      ]
    },
    {
      "cell_type": "code",
      "metadata": {
        "id": "i3pLOTjtMmSC"
      },
      "source": [
        "from tensorflow.keras.models import Sequential\n",
        "from tensorflow.keras.layers import Dense\n",
        "\n",
        "# Build the model.\n",
        "model = Sequential([\n",
        "  Dense(64, activation='relu', input_shape=(784,)),\n",
        "  Dense(64, activation='relu'),\n",
        "  Dense(10, activation='softmax'),\n",
        "])\n",
        "\n",
        "# Load the model's saved weights.\n",
        "model.load_weights('model.h5')"
      ],
      "execution_count": 37,
      "outputs": []
    },
    {
      "cell_type": "markdown",
      "metadata": {
        "id": "2xu0SvXHMtKS"
      },
      "source": [
        "Using the trained model to make predictions is easy: we pass an array of inputs to predict() and it returns an array of outputs. Keep in mind that the output of our network is 10 probabilities (because of softmax), so we’ll use np.argmax() to turn those into actual digits."
      ]
    },
    {
      "cell_type": "code",
      "metadata": {
        "colab": {
          "base_uri": "https://localhost:8080/"
        },
        "id": "sOYNLot7MyOZ",
        "outputId": "6e738379-6783-4fcc-efe7-789f1140364c"
      },
      "source": [
        "# Predict on the first 5 test images.\n",
        "predictions = model.predict(test_images[:5])\n",
        "\n",
        "# Print our model's predictions.\n",
        "print(np.argmax(predictions, axis=1)) # [7, 2, 1, 0, 4]\n",
        "\n",
        "# Check our predictions against the ground truths.\n",
        "print(test_labels[:5]) # [7, 2, 1, 0, 4]"
      ],
      "execution_count": 43,
      "outputs": [
        {
          "output_type": "stream",
          "text": [
            "[7 2 1 0 4]\n",
            "[7 2 1 0 4]\n"
          ],
          "name": "stdout"
        }
      ]
    },
    {
      "cell_type": "markdown",
      "metadata": {
        "id": "xRlHfbLgM53f"
      },
      "source": [
        "# **8. Extensions**\n"
      ]
    },
    {
      "cell_type": "markdown",
      "metadata": {
        "id": "IceIu9tXM-RG"
      },
      "source": [
        "What we’ve covered so far was but a brief introduction - there’s much more we can do to experiment with and improve this network. I’ve included a few examples below:"
      ]
    },
    {
      "cell_type": "markdown",
      "metadata": {
        "id": "VBce3S1iNGv2"
      },
      "source": [
        "**Tuning Hyperparameters**\n"
      ]
    },
    {
      "cell_type": "markdown",
      "metadata": {
        "id": "3nxuHmpONJJm"
      },
      "source": [
        "A good hyperparameter to start with is the learning rate for the Adam optimizer. What happens when you increase or decrease it?"
      ]
    },
    {
      "cell_type": "code",
      "metadata": {
        "id": "vwCCEezxNNy-"
      },
      "source": [
        "from tensorflow.keras.optimizers import Adam"
      ],
      "execution_count": 46,
      "outputs": []
    },
    {
      "cell_type": "code",
      "metadata": {
        "colab": {
          "base_uri": "https://localhost:8080/"
        },
        "id": "VoUyrDqNNUgu",
        "outputId": "f2b59806-bc47-4915-fe15-2d27d6ca4ab3"
      },
      "source": [
        "model.compile(\n",
        "  optimizer=Adam(lr=0.005),\n",
        "  loss='categorical_crossentropy',\n",
        "  metrics=['accuracy'],\n",
        ")"
      ],
      "execution_count": 47,
      "outputs": [
        {
          "output_type": "stream",
          "text": [
            "/usr/local/lib/python3.7/dist-packages/tensorflow/python/keras/optimizer_v2/optimizer_v2.py:375: UserWarning: The `lr` argument is deprecated, use `learning_rate` instead.\n",
            "  \"The `lr` argument is deprecated, use `learning_rate` instead.\")\n"
          ],
          "name": "stderr"
        }
      ]
    },
    {
      "cell_type": "markdown",
      "metadata": {
        "id": "l4ykFk5qNZsv"
      },
      "source": [
        "What about the batch size and number of epochs?\n",
        "\n"
      ]
    },
    {
      "cell_type": "code",
      "metadata": {
        "id": "ruapShbiNdo1"
      },
      "source": [
        "model.fit(\n",
        "  train_images,\n",
        "  to_categorical(train_labels),\n",
        "  epochs=10,\n",
        "  batch_size=64,\n",
        ")"
      ],
      "execution_count": null,
      "outputs": []
    },
    {
      "cell_type": "markdown",
      "metadata": {
        "id": "cAi-JvU5N6L1"
      },
      "source": [
        "**Network Depth**\n"
      ]
    },
    {
      "cell_type": "markdown",
      "metadata": {
        "id": "4Km9Fv6CN8tr"
      },
      "source": [
        "What happens if we remove or add more fully-connected layers? How does that affect training and/or the model’s final performance?"
      ]
    },
    {
      "cell_type": "code",
      "metadata": {
        "id": "GOU3WNsPOGMr"
      },
      "source": [
        "model = Sequential([\n",
        "  Dense(64, activation='relu', input_shape=(784,)),\n",
        "  Dense(64, activation='relu'),\n",
        "  Dense(64, activation='relu'),\n",
        "  Dense(64, activation='relu'),\n",
        "  Dense(10, activation='softmax'),\n",
        "])"
      ],
      "execution_count": 50,
      "outputs": []
    },
    {
      "cell_type": "markdown",
      "metadata": {
        "id": "ng0CcxvNOLS6"
      },
      "source": [
        "**Activations**\n"
      ]
    },
    {
      "cell_type": "markdown",
      "metadata": {
        "id": "S_c4ExRZOS6C"
      },
      "source": [
        "What if we use an activation other than ReLU, e.g. sigmoid?"
      ]
    },
    {
      "cell_type": "code",
      "metadata": {
        "id": "iTuXvNnQOXNx"
      },
      "source": [
        "model = Sequential([\n",
        "  Dense(64, activation='sigmoid', input_shape=(784,)),\n",
        "  Dense(64, activation='sigmoid'),\n",
        "  Dense(10, activation='softmax'),\n",
        "])"
      ],
      "execution_count": 51,
      "outputs": []
    },
    {
      "cell_type": "markdown",
      "metadata": {
        "id": "bwcQFcRUOb2i"
      },
      "source": [
        "**Dropout**"
      ]
    },
    {
      "cell_type": "markdown",
      "metadata": {
        "id": "Ftzk_F5COfQq"
      },
      "source": [
        "What if we tried adding Dropout layers, which are known to prevent overfitting?"
      ]
    },
    {
      "cell_type": "code",
      "metadata": {
        "id": "4TNQELX3OeaC"
      },
      "source": [
        "from tensorflow.keras.layers import Dense, Dropout\n",
        "\n",
        "model = Sequential([\n",
        "  Dense(64, activation='relu', input_shape=(784,)),\n",
        "  Dropout(0.5),\n",
        "  Dense(64, activation='relu'),\n",
        "  Dropout(0.5),\n",
        "  Dense(10, activation='softmax'),\n",
        "])"
      ],
      "execution_count": 52,
      "outputs": []
    },
    {
      "cell_type": "markdown",
      "metadata": {
        "id": "ZVyhUfmfOwdh"
      },
      "source": [
        "**Validation**"
      ]
    },
    {
      "cell_type": "markdown",
      "metadata": {
        "id": "P8lcFYD3O2aY"
      },
      "source": [
        "We can also use the testing dataset for validation during training. Keras will evaluate the model on the validation set at the end of each epoch and report the loss and any metrics we asked for. This allows us to monitor our model’s progress over time during training, which can be useful to identify overfitting and even support early stopping."
      ]
    },
    {
      "cell_type": "code",
      "metadata": {
        "id": "L_yWmWsRO7ZQ"
      },
      "source": [
        "model.fit(\n",
        "  train_images,\n",
        "  to_categorical(train_labels),\n",
        "  epochs=5,\n",
        "  batch_size=32,\n",
        "  validation_data=(test_images, to_categorical(test_labels))\n",
        ")"
      ],
      "execution_count": null,
      "outputs": []
    },
    {
      "cell_type": "markdown",
      "metadata": {
        "id": "6-B4D3yZ-f9t"
      },
      "source": [
        "# **References**\n",
        "\n",
        "[Keras for Beginners: Building Your First Neural Network](https://victorzhou.com/blog/keras-neural-network-tutorial/)"
      ]
    }
  ]
}