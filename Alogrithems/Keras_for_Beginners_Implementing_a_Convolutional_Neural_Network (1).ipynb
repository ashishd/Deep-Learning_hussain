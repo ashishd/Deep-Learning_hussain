{
  "nbformat": 4,
  "nbformat_minor": 0,
  "metadata": {
    "colab": {
      "name": "Keras for Beginners: Implementing a Convolutional Neural Network.ipynb",
      "provenance": [],
      "collapsed_sections": [],
      "toc_visible": true
    },
    "kernelspec": {
      "name": "python3",
      "display_name": "Python 3"
    },
    "language_info": {
      "name": "python"
    }
  },
  "cells": [
    {
      "cell_type": "markdown",
      "metadata": {
        "id": "gL0AffZGOZxZ"
      },
      "source": [
        "# **Introduction**\n"
      ]
    },
    {
      "cell_type": "markdown",
      "metadata": {
        "id": "VZ-7tDmpAjqI"
      },
      "source": [
        "Keras is a simple-to-use but powerful deep learning library for Python. we’ll build a simple Convolutional Neural Network (CNN) and train it to solve a real problem with Keras."
      ]
    },
    {
      "cell_type": "markdown",
      "metadata": {
        "id": "Lr8nF4iiAxoS"
      },
      "source": [
        "# **The Problem: MNIST digit classification**"
      ]
    },
    {
      "cell_type": "markdown",
      "metadata": {
        "id": "eJIKaFHZA7MB"
      },
      "source": [
        "We’re going to tackle a classic introductory Computer Vision problem: MNIST handwritten digit classification. It’s simple: given an image, classify it as a digit."
      ]
    },
    {
      "cell_type": "markdown",
      "metadata": {
        "id": "cUPzZRuhB53n"
      },
      "source": [
        "![](https://drive.google.com/uc?export=view&id=1f48f7yWecCFaApquvR1JC9h6y_KXXmFc)"
      ]
    },
    {
      "cell_type": "markdown",
      "metadata": {
        "id": "QKThc4ZKB-8u"
      },
      "source": [
        "Each image in the MNIST dataset is 28x28 and contains a centered, grayscale digit. Our CNN will take an image and output one of 10 possible classes (one for each digit)."
      ]
    },
    {
      "cell_type": "markdown",
      "metadata": {
        "id": "Bh-YhPsZCG7S"
      },
      "source": [
        "**1. Setup**"
      ]
    },
    {
      "cell_type": "code",
      "metadata": {
        "id": "KIzSNApgCK-x"
      },
      "source": [
        "!pip install tensorflow numpy mnist"
      ],
      "execution_count": null,
      "outputs": []
    },
    {
      "cell_type": "code",
      "metadata": {
        "colab": {
          "base_uri": "https://localhost:8080/"
        },
        "id": "qr74plETCVuN",
        "outputId": "bbf33693-30f7-41bb-d150-2834ab214076"
      },
      "source": [
        "import numpy as np\n",
        "import mnist\n",
        "from tensorflow import keras\n",
        "\n",
        "# The first time you run this might be a bit slow, since the\n",
        "# mnist package has to download and cache the data.\n",
        "train_images = mnist.train_images()\n",
        "train_labels = mnist.train_labels()\n",
        "\n",
        "print(train_images.shape) # (60000, 28, 28)\n",
        "print(train_labels.shape) # (60000,)"
      ],
      "execution_count": 3,
      "outputs": [
        {
          "output_type": "stream",
          "text": [
            "(60000, 28, 28)\n",
            "(60000,)\n"
          ],
          "name": "stdout"
        }
      ]
    },
    {
      "cell_type": "markdown",
      "metadata": {
        "id": "5yX4PU7ZCvrl"
      },
      "source": [
        "#**2. Preparing the Data**"
      ]
    },
    {
      "cell_type": "markdown",
      "metadata": {
        "id": "37nZ3JSRC-9u"
      },
      "source": [
        "Before we begin, we’ll normalize the image pixel values from [0, 255] to [-0.5, 0.5] to make our network easier to train (using smaller, centered values usually leads to better results). We’ll also reshape each image from (28, 28) to (28, 28, 1) because Keras requires the third dimension."
      ]
    },
    {
      "cell_type": "code",
      "metadata": {
        "colab": {
          "base_uri": "https://localhost:8080/"
        },
        "id": "mKZWJ5HyDIQX",
        "outputId": "2846219c-dbf7-4292-9dc3-21b3325aac86"
      },
      "source": [
        "import numpy as np\n",
        "import mnist\n",
        "\n",
        "train_images = mnist.train_images()\n",
        "train_labels = mnist.train_labels()\n",
        "test_images = mnist.test_images()\n",
        "test_labels = mnist.test_labels()\n",
        "\n",
        "# Normalize the images.\n",
        "train_images = (train_images / 255) - 0.5\n",
        "test_images = (test_images / 255) - 0.5\n",
        "\n",
        "# Reshape the images.\n",
        "train_images = np.expand_dims(train_images, axis=3)\n",
        "test_images = np.expand_dims(test_images, axis=3)\n",
        "\n",
        "print(train_images.shape) # (60000, 28, 28, 1)\n",
        "print(test_images.shape)  # (10000, 28, 28, 1)"
      ],
      "execution_count": 4,
      "outputs": [
        {
          "output_type": "stream",
          "text": [
            "(60000, 28, 28, 1)\n",
            "(10000, 28, 28, 1)\n"
          ],
          "name": "stdout"
        }
      ]
    },
    {
      "cell_type": "markdown",
      "metadata": {
        "id": "OiBguJNYDTAF"
      },
      "source": [
        "We’re ready to start building our CNN!\n",
        "\n"
      ]
    },
    {
      "cell_type": "markdown",
      "metadata": {
        "id": "b0Pyy9lyDZ9M"
      },
      "source": [
        "# **3. Building the Model**"
      ]
    },
    {
      "cell_type": "markdown",
      "metadata": {
        "id": "BSHXbvV7EBgc"
      },
      "source": [
        "Every Keras model is either built using the **Sequential class**, which represents a linear stack of layers, or the functional **Model** class, which is more customizeable. We’ll be using the simpler Sequential model, since our CNN will be a linear stack of layers.\n",
        "\n",
        "We start by instantiating a Sequential model:"
      ]
    },
    {
      "cell_type": "code",
      "metadata": {
        "id": "Gfdi5f-ZFF4V"
      },
      "source": [
        "from tensorflow.keras.models import Sequential\n",
        "\n",
        "# WIP\n",
        "model = Sequential([\n",
        "  # layers...\n",
        "])"
      ],
      "execution_count": 5,
      "outputs": []
    },
    {
      "cell_type": "markdown",
      "metadata": {
        "id": "rLEVb5Bus8AC"
      },
      "source": [
        "The Sequential constructor takes an array of Keras Layers. We’ll use 3 types of layers for our CNN: Convolutional, Max Pooling, and Softmax."
      ]
    },
    {
      "cell_type": "markdown",
      "metadata": {
        "id": "fqjJI4Vps-Eo"
      },
      "source": [
        "![](https://drive.google.com/uc?export=view&id=1ey9FWrRWip0dr4T9HtdDvbUC0GxvJCVQ)"
      ]
    },
    {
      "cell_type": "markdown",
      "metadata": {
        "id": "FELqXvELuQEv"
      },
      "source": [
        "- **num_filters, filter_size, and pool_size** are self-explanatory variables that set the hyperparameters for our CNN.\n",
        "- The first layer in any Sequential model must specify the input_shape, so we do so on Conv2D. Once this input shape is specified, Keras will automatically infer the shapes of inputs for later layers.\n",
        "- The output Softmax layer has 10 nodes, one for each class."
      ]
    },
    {
      "cell_type": "code",
      "metadata": {
        "id": "SArRYiB3KKNF"
      },
      "source": [
        "from tensorflow.keras.layers import Conv2D, MaxPooling2D, Dense, Flatten\n",
        "\n",
        "num_filters = 8\n",
        "filter_size = 3\n",
        "pool_size = 2\n",
        "\n",
        "model = Sequential([\n",
        "  Conv2D(num_filters, filter_size, input_shape=(28, 28, 1)),\n",
        "  MaxPooling2D(pool_size=pool_size),\n",
        "  Flatten(),\n",
        "  Dense(10, activation='softmax'),\n",
        "])"
      ],
      "execution_count": 6,
      "outputs": []
    },
    {
      "cell_type": "markdown",
      "metadata": {
        "id": "XupcnCU6uv3-"
      },
      "source": [
        "# **4. Compiling the Model**"
      ]
    },
    {
      "cell_type": "markdown",
      "metadata": {
        "id": "eJjRjTFQu1UQ"
      },
      "source": [
        "Before we can begin training, we need to configure the training process. We decide 3 key factors during the compilation step:"
      ]
    },
    {
      "cell_type": "markdown",
      "metadata": {
        "id": "OYNU6BifvT-Q"
      },
      "source": [
        "- The optimizer. We’ll stick with a pretty good default: the Adam gradient-based optimizer. Keras has many other optimizers you can look into as well.\n",
        "- The loss function. Since we’re using a Softmax output layer, we’ll use the Cross-Entropy loss. Keras distinguishes between binary_crossentropy (2 classes) and categorical_crossentropy (>2 classes), so we’ll use the latter. See all Keras losses.\n",
        "- A list of metrics. Since this is a classification problem, we’ll just have Keras report on the accuracy metric."
      ]
    },
    {
      "cell_type": "markdown",
      "metadata": {
        "id": "NpPPkJd8vmd-"
      },
      "source": [
        "Here’s what that compilation looks like:\n",
        "\n"
      ]
    },
    {
      "cell_type": "code",
      "metadata": {
        "id": "mKl8gSXLKTc-"
      },
      "source": [
        "model.compile(\n",
        "  'adam',\n",
        "  loss='categorical_crossentropy',\n",
        "  metrics=['accuracy'],\n",
        ")"
      ],
      "execution_count": 7,
      "outputs": []
    },
    {
      "cell_type": "markdown",
      "metadata": {
        "id": "HU-49B6Jvsmu"
      },
      "source": [
        "# **5. Training the Model**"
      ]
    },
    {
      "cell_type": "markdown",
      "metadata": {
        "id": "GjK9fhGLv0Hl"
      },
      "source": [
        "Training a model in Keras literally consists only of calling fit() and specifying some parameters. There are a lot of possible parameters, but we’ll only supply these:"
      ]
    },
    {
      "cell_type": "markdown",
      "metadata": {
        "id": "Klbl1DYev5xV"
      },
      "source": [
        "- The training data (images and labels), commonly known as X and Y, respectively.\n",
        "- The number of epochs (iterations over the entire dataset) to train for.\n",
        "- The validation data (or test data), which is used during training to periodically measure the network’s performance against data it hasn’t seen before."
      ]
    },
    {
      "cell_type": "markdown",
      "metadata": {
        "id": "CIyvM3TEwT7h"
      },
      "source": [
        "There’s one thing we have to be careful about: Keras expects the training targets to be 10-dimensional vectors, since there are 10 nodes in our Softmax output layer. Right now, our train_labels and test_labels arrays contain single integers representing the class for each image:\n",
        "\n"
      ]
    },
    {
      "cell_type": "code",
      "metadata": {
        "colab": {
          "base_uri": "https://localhost:8080/"
        },
        "id": "juzQW78pKX4z",
        "outputId": "9222f8f9-4d28-40c9-ba14-b9b91e0e52c1"
      },
      "source": [
        "import mnist\n",
        "\n",
        "train_labels = mnist.train_labels()\n",
        "print(train_labels[0]) # 5"
      ],
      "execution_count": 9,
      "outputs": [
        {
          "output_type": "stream",
          "text": [
            "5\n"
          ],
          "name": "stdout"
        }
      ]
    },
    {
      "cell_type": "markdown",
      "metadata": {
        "id": "HNxrhdxhwfJ2"
      },
      "source": [
        "Conveniently, Keras has a utility method that fixes this exact issue: to_categorical. It turns our array of class integers into an array of one-hot vectors instead. For example, 2 would become [0, 0, 1, 0, 0, 0, 0, 0, 0, 0] (it’s zero-indexed)."
      ]
    },
    {
      "cell_type": "markdown",
      "metadata": {
        "id": "bh9bqioVwkLX"
      },
      "source": [
        "Here’s what that looks like:\n",
        "\n"
      ]
    },
    {
      "cell_type": "code",
      "metadata": {
        "colab": {
          "base_uri": "https://localhost:8080/"
        },
        "id": "HP12zQX-Kc4S",
        "outputId": "1c92e965-8ad1-4794-ce5f-cd7ad6e272fa"
      },
      "source": [
        "from tensorflow.keras.utils import to_categorical\n",
        "\n",
        "model.fit(\n",
        "  train_images,\n",
        "  to_categorical(train_labels),\n",
        "  epochs=3,\n",
        "  validation_data=(test_images, to_categorical(test_labels)),\n",
        ")"
      ],
      "execution_count": 10,
      "outputs": [
        {
          "output_type": "stream",
          "text": [
            "Epoch 1/3\n",
            "1875/1875 [==============================] - 19s 10ms/step - loss: 0.3416 - accuracy: 0.9019 - val_loss: 0.1933 - val_accuracy: 0.9433\n",
            "Epoch 2/3\n",
            "1875/1875 [==============================] - 18s 10ms/step - loss: 0.1650 - accuracy: 0.9530 - val_loss: 0.1299 - val_accuracy: 0.9629\n",
            "Epoch 3/3\n",
            "1875/1875 [==============================] - 18s 10ms/step - loss: 0.1205 - accuracy: 0.9654 - val_loss: 0.1012 - val_accuracy: 0.9685\n"
          ],
          "name": "stdout"
        },
        {
          "output_type": "execute_result",
          "data": {
            "text/plain": [
              "<tensorflow.python.keras.callbacks.History at 0x7f6f6c7adc50>"
            ]
          },
          "metadata": {
            "tags": []
          },
          "execution_count": 10
        }
      ]
    },
    {
      "cell_type": "markdown",
      "metadata": {
        "id": "wDQza7SYwwBd"
      },
      "source": [
        "We achieve 97.4% test accuracy with this simple CNN!\n",
        "\n"
      ]
    },
    {
      "cell_type": "markdown",
      "metadata": {
        "id": "NAbW2KHpw28g"
      },
      "source": [
        "# **6. Using the Model**"
      ]
    },
    {
      "cell_type": "markdown",
      "metadata": {
        "id": "_Wv4E6zHw_zP"
      },
      "source": [
        "Now that we have a working, trained model, let’s put it to use. The first thing we’ll do is save it to disk so we can load it back up anytime:"
      ]
    },
    {
      "cell_type": "code",
      "metadata": {
        "id": "zZCsPYanxDhF"
      },
      "source": [
        "model.save_weights('cnn.h5')"
      ],
      "execution_count": 11,
      "outputs": []
    },
    {
      "cell_type": "markdown",
      "metadata": {
        "id": "bBTCmkz1xIYm"
      },
      "source": [
        "We can now reload the trained model whenever we want by rebuilding it and loading in the saved weights:"
      ]
    },
    {
      "cell_type": "code",
      "metadata": {
        "id": "XxFthzlCxYSN"
      },
      "source": [
        "from tensorflow.keras.models import Sequential\n",
        "from tensorflow.keras.layers import Conv2D, MaxPooling2D, Dense, Flatten\n",
        "\n",
        "num_filters = 8\n",
        "filter_size = 3\n",
        "pool_size = 2\n",
        "\n",
        "# Build the model.\n",
        "model = Sequential([\n",
        "  Conv2D(num_filters, filter_size, input_shape=(28, 28, 1)),\n",
        "  MaxPooling2D(pool_size=pool_size),\n",
        "  Flatten(),\n",
        "  Dense(10, activation='softmax'),\n",
        "])\n",
        "\n",
        "# Load the model's saved weights.\n",
        "model.load_weights('cnn.h5')"
      ],
      "execution_count": 12,
      "outputs": []
    },
    {
      "cell_type": "markdown",
      "metadata": {
        "id": "c2w1qeqVxiuV"
      },
      "source": [
        "Using the trained model to make predictions is easy: we pass an array of inputs to predict() and it returns an array of outputs. Keep in mind that the output of our network is 10 probabilities (because of softmax), so we’ll use np.argmax() to turn those into actual digits."
      ]
    },
    {
      "cell_type": "code",
      "metadata": {
        "colab": {
          "base_uri": "https://localhost:8080/"
        },
        "id": "Q2fddlB_xmnl",
        "outputId": "47e40d91-9cd2-458d-d6d7-1cea91b67662"
      },
      "source": [
        "# Predict on the first 5 test images.\n",
        "predictions = model.predict(test_images[:5])\n",
        "\n",
        "# Print our model's predictions.\n",
        "print(np.argmax(predictions, axis=1)) # [7, 2, 1, 0, 4]\n",
        "\n",
        "# Check our predictions against the ground truths.\n",
        "print(test_labels[:5]) # [7, 2, 1, 0, 4]"
      ],
      "execution_count": 13,
      "outputs": [
        {
          "output_type": "stream",
          "text": [
            "[7 2 1 0 4]\n",
            "[7 2 1 0 4]\n"
          ],
          "name": "stdout"
        }
      ]
    },
    {
      "cell_type": "markdown",
      "metadata": {
        "id": "oqtWhjtBxz11"
      },
      "source": [
        "# **8. Extensions**"
      ]
    },
    {
      "cell_type": "markdown",
      "metadata": {
        "id": "d7N_LTmOx5an"
      },
      "source": [
        "There’s much more we can do to experiment with and improve our network - in this official Keras MNIST CNN example, they achieve 99 test accuracy after 15 epochs. Some examples of modifications you could make to our CNN include:"
      ]
    },
    {
      "cell_type": "markdown",
      "metadata": {
        "id": "4g_TaLgLyW_r"
      },
      "source": [
        "**Network Depth**"
      ]
    },
    {
      "cell_type": "markdown",
      "metadata": {
        "id": "w1V5MauRygbL"
      },
      "source": [
        "What happens if we add or remove Convolutional layers? How does that affect training and/or the model’s final performance?"
      ]
    },
    {
      "cell_type": "code",
      "metadata": {
        "id": "yvXPxHWYyrd0"
      },
      "source": [
        "model = Sequential([\n",
        "  Conv2D(num_filters, filter_size, input_shape=(28, 28, 1)),\n",
        "  Conv2D(num_filters, filter_size),\n",
        "  MaxPooling2D(pool_size=pool_size),\n",
        "  Flatten(),\n",
        "  Dense(10, activation='softmax'),\n",
        "])"
      ],
      "execution_count": 14,
      "outputs": []
    },
    {
      "cell_type": "markdown",
      "metadata": {
        "id": "uQOrc7nazE4h"
      },
      "source": [
        "**Dropout**"
      ]
    },
    {
      "cell_type": "markdown",
      "metadata": {
        "id": "k3ATaslvzI4j"
      },
      "source": [
        "What if we tried adding Dropout layers, which are commonly used to prevent overfitting?"
      ]
    },
    {
      "cell_type": "code",
      "metadata": {
        "id": "rcojunwXzN9H"
      },
      "source": [
        "from tensorflow.keras.layers import Dropout\n",
        "\n",
        "model = Sequential([\n",
        "  Conv2D(num_filters, filter_size, input_shape=(28, 28, 1)),\n",
        "  MaxPooling2D(pool_size=pool_size),\n",
        "  Dropout(0.5),\n",
        "  Flatten(),\n",
        "  Dense(10, activation='softmax'),\n",
        "])"
      ],
      "execution_count": 15,
      "outputs": []
    },
    {
      "cell_type": "markdown",
      "metadata": {
        "id": "rZE1652pzXcN"
      },
      "source": [
        "**Fully-connected Layers**"
      ]
    },
    {
      "cell_type": "markdown",
      "metadata": {
        "id": "i7u2R78zzhea"
      },
      "source": [
        "What if we add fully-connected layers between the Convolutional outputs and the final Softmax layer? This is something commonly done in CNNs used for Computer Vision."
      ]
    },
    {
      "cell_type": "code",
      "metadata": {
        "id": "E5byHiSJznhD"
      },
      "source": [
        "from tensorflow.keras.layers import Dense\n",
        "\n",
        "model = Sequential([\n",
        "  Conv2D(num_filters, filter_size, input_shape=(28, 28, 1)),\n",
        "  MaxPooling2D(pool_size=pool_size),\n",
        "  Flatten(),\n",
        "  Dense(64, activation='relu'),\n",
        "  Dense(10, activation='softmax'),\n",
        "])"
      ],
      "execution_count": 16,
      "outputs": []
    },
    {
      "cell_type": "markdown",
      "metadata": {
        "id": "MkVE86m_zxO7"
      },
      "source": [
        "**Convolution Parameters**"
      ]
    },
    {
      "cell_type": "markdown",
      "metadata": {
        "id": "DuGZBJZdz04G"
      },
      "source": [
        "What if we play with the Conv2D parameters? For example:"
      ]
    },
    {
      "cell_type": "code",
      "metadata": {
        "id": "b1C6YnfKz564"
      },
      "source": [
        "# These can be changed, too!\n",
        "num_filters = 8\n",
        "filter_size = 3\n",
        "\n",
        "model = Sequential([\n",
        "  # See https://keras.io/layers/convolutional/#conv2d for more info.\n",
        "  Conv2D(\n",
        "    num_filters,\n",
        "    filter_size,\n",
        "    input_shape=(28, 28, 1),\n",
        "    strides=2,\n",
        "    padding='same',\n",
        "    activation='relu',\n",
        "  ),\n",
        "  MaxPooling2D(pool_size=pool_size),\n",
        "  Flatten(),\n",
        "  Dense(10, activation='softmax'),\n",
        "])"
      ],
      "execution_count": 17,
      "outputs": []
    },
    {
      "cell_type": "markdown",
      "metadata": {
        "id": "EgWJOp-40ADb"
      },
      "source": [
        "# **References**"
      ]
    },
    {
      "cell_type": "markdown",
      "metadata": {
        "id": "MIXjbz4hOO6i"
      },
      "source": [
        "[Keras for Beginners: Implementing a Convolutional Neural Network](https://victorzhou.com/blog/keras-cnn-tutorial/)"
      ]
    },
    {
      "cell_type": "markdown",
      "metadata": {
        "id": "9yZR1bWv0FQy"
      },
      "source": [
        "[Keras for Beginners](https://victorzhou.com/series/keras-for-beginners/)"
      ]
    }
  ]
}