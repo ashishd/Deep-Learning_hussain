{
  "nbformat": 4,
  "nbformat_minor": 0,
  "metadata": {
    "colab": {
      "provenance": [],
      "toc_visible": true,
      "authorship_tag": "ABX9TyNyfEc3dUV0kRxldRd57S83",
      "include_colab_link": true
    },
    "kernelspec": {
      "name": "python3",
      "display_name": "Python 3"
    },
    "language_info": {
      "name": "python"
    }
  },
  "cells": [
    {
      "cell_type": "markdown",
      "metadata": {
        "id": "view-in-github",
        "colab_type": "text"
      },
      "source": [
        "<a href=\"https://colab.research.google.com/github/hussain0048/Deep-Learning/blob/master/Deep_Learning.ipynb\" target=\"_parent\"><img src=\"https://colab.research.google.com/assets/colab-badge.svg\" alt=\"Open In Colab\"/></a>"
      ]
    },
    {
      "cell_type": "code",
      "execution_count": null,
      "metadata": {
        "id": "EQlVDtrthPxr"
      },
      "outputs": [],
      "source": []
    },
    {
      "cell_type": "markdown",
      "source": [
        "# **Course 1: Neural Networks and Deep Learning**"
      ],
      "metadata": {
        "id": "zEkAuj0d9ulF"
      }
    },
    {
      "cell_type": "markdown",
      "source": [
        "##**📚Chapter2: Logistic Regression as a Neural Network**"
      ],
      "metadata": {
        "id": "WZ2_WBe59927"
      }
    },
    {
      "cell_type": "markdown",
      "source": [
        "### **Gradient Descent on m Examples**"
      ],
      "metadata": {
        "id": "WCj5zRYB-NMr"
      }
    },
    {
      "cell_type": "code",
      "source": [
        "import numpy as np\n",
        "\n",
        "def gradient_descent(X, y, learning_rate, num_iterations):\n",
        "    \"\"\"\n",
        "    Performs gradient descent to minimize the MSE loss function for a linear regression model.\n",
        "\n",
        "    Args:\n",
        "        X (np.ndarray): The training data features.\n",
        "        y (np.ndarray): The training data labels.\n",
        "        learning_rate (float): The learning rate.\n",
        "        num_iterations (int): The number of iterations to perform.\n",
        "\n",
        "    Returns:\n",
        "        np.ndarray: The optimal weights.\n",
        "    \"\"\"\n",
        "    weights = np.zeros(X.shape[1])\n",
        "\n",
        "    for _ in range(num_iterations):\n",
        "        predictions = np.dot(X, weights)\n",
        "        errors = predictions - y\n",
        "        gradients = np.dot(errors.T, X).T\n",
        "\n",
        "        weights -= learning_rate * gradients\n",
        "\n",
        "    return weights\n"
      ],
      "metadata": {
        "id": "ecx50xyH-XMl"
      },
      "execution_count": 1,
      "outputs": []
    },
    {
      "cell_type": "code",
      "source": [
        "# Generate some synthetic data\n",
        "X = np.random.randn(100, 2)\n",
        "y = 2 * X[:, 0] + 1 + np.random.randn(100)"
      ],
      "metadata": {
        "id": "s5lrBC_C-fLt"
      },
      "execution_count": 2,
      "outputs": []
    },
    {
      "cell_type": "code",
      "source": [
        "# Train the linear regression model using gradient descent\n",
        "weights = gradient_descent(X, y, 0.01, 1000)\n",
        "\n",
        "print(\"Optimal weights:\", weights)"
      ],
      "metadata": {
        "id": "YXu01qdB-kPD",
        "outputId": "addafdc5-0591-4dc8-86db-1e72a9d470f5",
        "colab": {
          "base_uri": "https://localhost:8080/"
        }
      },
      "execution_count": 3,
      "outputs": [
        {
          "output_type": "stream",
          "name": "stdout",
          "text": [
            "Optimal weights: [ 1.62817141 -0.14618265]\n"
          ]
        }
      ]
    }
  ]
}